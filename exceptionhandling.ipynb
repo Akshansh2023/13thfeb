{
 "cells": [
  {
   "attachments": {},
   "cell_type": "markdown",
   "metadata": {},
   "source": [
    "# Question 1 \n",
    "Explain why we have to use the Exception class while creating a Custom Exception"
   ]
  },
  {
   "attachments": {},
   "cell_type": "markdown",
   "metadata": {},
   "source": [
    "\n",
    "# Answer\n",
    "\n",
    "When creating a custom exception in Python, it is important to use the Exception class as the base class for the new exception. This is because Exception is the built-in base class for all exceptions in Python, and using it as the base class for a custom exception allows the new exception to inherit all the behavior and properties of the built-in exception class.\n",
    "\n",
    "By using the Exception class as the base class, the custom exception will have access to important features such as the ability to define custom error messages, traceback information, and other error handling behavior that is expected by Python's exception handling system.\n",
    "\n",
    "In addition, using the Exception class as the base class for a custom exception makes it easier for other developers to understand the nature of the exception and its intended usage. It is also a best practice to use the Exception class as the base class, as it ensures consistency with other Python code and makes it easier to maintain and debug the code over time."
   ]
  },
  {
   "attachments": {},
   "cell_type": "markdown",
   "metadata": {},
   "source": [
    "# question 2\n",
    " Write a python program to print Python Exception Hierarchy.\n",
    " "
   ]
  },
  {
   "attachments": {},
   "cell_type": "markdown",
   "metadata": {},
   "source": [
    "# Answer \n",
    "\n",
    "def print_exception_hierarchy():\n",
    "    \"\"\"\n",
    "    This function prints the Python Exception Hierarchy.\n",
    "    \"\"\"\n",
    "    exception_hierarchy = []\n",
    "    current_exception = BaseException\n",
    "    \n",
    "    # Iterate over the exception hierarchy and store it in a list\n",
    "    while current_exception:\n",
    "        exception_hierarchy.append(current_exception)\n",
    "        current_exception = current_exception.__base__\n",
    "    \n",
    "    # Print the exception hierarchy in reverse order\n",
    "    print(\"Python Exception Hierarchy:\")\n",
    "    for exception in reversed(exception_hierarchy):\n",
    "        print(exception.__name__)\n",
    "\n",
    "#Call the function to print the exception hierarchy\n",
    "print_exception_hierarchy()\n",
    "\n",
    "#This program defines a function called print_exception_hierarchy that iterates over the Python exception hierarchy and stores it in a list. Then, it prints the hierarchy in reverse order.\n"
   ]
  },
  {
   "attachments": {},
   "cell_type": "markdown",
   "metadata": {},
   "source": [
    "# Q3. \n",
    "What errors are defined in the ArithmeticError class? Explain any two with an example."
   ]
  },
  {
   "attachments": {},
   "cell_type": "markdown",
   "metadata": {},
   "source": [
    "# Answer\n",
    "The ArithmeticError class is a built-in exception class in Python that serves as a base class for exceptions that occur during arithmetic operations. The exceptions defined under ArithmeticError include FloatingPointError, OverflowError, and ZeroDivisionError.\n",
    "Here are two examples of exceptions that are defined under ArithmeticError:\n",
    "ZeroDivisionError: This exception is raised when an arithmetic operation attempts to divide a number by zero. For example:\n",
    "\n",
    "#Attempting to divide by zero raises a ZeroDivisionError\n",
    "x = 10 / 0\n",
    "This code will raise a ZeroDivisionError because it is attempting to divide the number 10 by zero, which is not allowed in arithmetic operations.\n",
    "FloatingPointError: This exception is raised when a floating-point calculation fails due to an overflow or underflow condition. For example:\n",
    "#Performing a floating-point calculation that causes an overflow raises a FloatingPointError\n",
    "import math\n",
    "x = math.exp(1000)\n",
    "This code will raise a FloatingPointError because it is attempting to perform a floating-point calculation that exceeds the maximum value that can be represented by the system. In this case, the math.exp(1000) function call returns inf (infinity), which causes a FloatingPointError to be raised.\n",
    "\n",
    "\n"
   ]
  },
  {
   "attachments": {},
   "cell_type": "markdown",
   "metadata": {},
   "source": [
    "# Question 4\n",
    "Q4. Why LookupError class is used? Explain with an example KeyError and IndexError."
   ]
  },
  {
   "attachments": {},
   "cell_type": "markdown",
   "metadata": {},
   "source": [
    "# Answer \n",
    "The LookupError class is a built-in exception class in Python that serves as a base class for exceptions that occur when a specified key or index cannot be found in a collection or sequence. This class is useful for handling errors related to accessing data structures, such as dictionaries and lists, where a key or index is used to retrieve values.\n",
    "\n",
    "Here are two examples of exceptions that are defined under LookupError:\n",
    "\n",
    "1. KeyError: This exception is raised when a dictionary key is not found in the dictionary. For example:\n",
    "#Attempting to access a dictionary key that doesn't exist raises a KeyError\n",
    "my_dict = {\"key1\": 1, \"key2\": 2}\n",
    "value = my_dict[\"key3\"]\n",
    "This code will raise a KeyError because it is attempting to access a key \"key3\" that doesn't exist in the dictionary my_dict.\n",
    "\n",
    "2. IndexError: This exception is raised when a list index is out of range or invalid. For example:\n",
    "#Attempting to access a list index that is out of range raises an IndexError\n",
    "my_list = [1, 2, 3]\n",
    "value = my_list[3]\n",
    "\n",
    "This code will raise an IndexError because it is attempting to access the fourth element in my_list using an index of 3, which is out of range. The valid indices for my_list are 0, 1, and 2.\n",
    "\n",
    "Using the LookupError class as a base class for these exceptions allows you to handle these types of errors in a more general way, since both KeyError and IndexError share the same root cause of trying to access a nonexistent key or index in a collection or sequence.\n",
    "\n",
    "\n",
    "\n",
    "\n",
    "\n"
   ]
  },
  {
   "attachments": {},
   "cell_type": "markdown",
   "metadata": {},
   "source": [
    "# question 5 \n",
    "Explain ImportError. What is ModuleNotFoundError?"
   ]
  },
  {
   "attachments": {},
   "cell_type": "markdown",
   "metadata": {},
   "source": [
    "# Answer \n",
    "ImportError is a built-in exception class in Python that is raised when an import statement fails to import a module.\n",
    "\n",
    "ModuleNotFoundError is a subclass of ImportError that is raised when an import statement fails because the specified module cannot be found. It was introduced in Python 3.6 to provide a more specific exception for this scenario. Prior to Python 3.6, a ImportError would be raised for both missing modules and other import errors.\n"
   ]
  },
  {
   "attachments": {},
   "cell_type": "markdown",
   "metadata": {},
   "source": [
    "# question 6 \n",
    "List down some best practices for exception handling in python."
   ]
  },
  {
   "attachments": {},
   "cell_type": "markdown",
   "metadata": {},
   "source": [
    "#Answer \n",
    "1. Be specific with exception handling: Catch only the exceptions that you can handle and don't use a generic catch-all exception block. This will help you to debug your code more easily and handle errors more effectively.\n",
    "\n",
    "Use the finally block for cleanup code: The finally block is always executed regardless of whether an exception is thrown or not. Use it to clean up any resources, such as file handles or network connections, that your code may have opened.\n",
    "\n",
    "Don't suppress exceptions: Avoid using empty exception blocks that do nothing, as this can make it harder to diagnose problems later. If you need to catch an exception but don't need to do anything with it, consider logging the error message.\n",
    "\n",
    "Use descriptive error messages: When raising an exception, use a descriptive error message that explains what went wrong and why. This will help users of your code to diagnose and fix problems more easily."
   ]
  },
  {
   "cell_type": "markdown",
   "metadata": {},
   "source": []
  },
  {
   "cell_type": "markdown",
   "metadata": {},
   "source": []
  },
  {
   "cell_type": "markdown",
   "metadata": {},
   "source": []
  }
 ],
 "metadata": {
  "kernelspec": {
   "display_name": "Python 3",
   "language": "python",
   "name": "python3"
  },
  "language_info": {
   "codemirror_mode": {
    "name": "ipython",
    "version": 3
   },
   "file_extension": ".py",
   "mimetype": "text/x-python",
   "name": "python",
   "nbconvert_exporter": "python",
   "pygments_lexer": "ipython3",
   "version": "3.11.1"
  },
  "orig_nbformat": 4,
  "vscode": {
   "interpreter": {
    "hash": "f93b20e1d3223fd6eab5e62d4e6188ceec10b61c10ce7642d9451f672963b938"
   }
  }
 },
 "nbformat": 4,
 "nbformat_minor": 2
}
